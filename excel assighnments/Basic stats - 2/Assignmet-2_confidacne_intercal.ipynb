{
 "cells": [
  {
   "cell_type": "code",
   "execution_count": 1,
   "id": "8f898326-b421-4323-b660-0e691922f9ca",
   "metadata": {},
   "outputs": [],
   "source": [
    "\n",
    "\n",
    "from scipy import stats\n",
    "import numpy as np\n"
   ]
  },
  {
   "cell_type": "code",
   "execution_count": 2,
   "id": "6a6b480f-a5b7-4883-b9cb-e0af50c6e67f",
   "metadata": {},
   "outputs": [],
   "source": [
    "n=15 # Number of print head taken as sample\n",
    "P_head= np.array([1.13,1.55,1.43,0.92,1.25,1.36,1.32,0.85,1.07,1.48,1.20,1.33,1.88,1.22,1.29]) # coverting the data into array (In million)"
   ]
  },
  {
   "cell_type": "code",
   "execution_count": 3,
   "id": "b0894a2f-17b1-42e7-a5b2-5216001344c0",
   "metadata": {},
   "outputs": [
    {
     "data": {
      "text/plain": [
       "(15,)"
      ]
     },
     "execution_count": 3,
     "metadata": {},
     "output_type": "execute_result"
    }
   ],
   "source": [
    "P_head.shape"
   ]
  },
  {
   "cell_type": "code",
   "execution_count": 4,
   "id": "4f74c1b4-28de-41c9-af71-618dae190cfa",
   "metadata": {},
   "outputs": [],
   "source": [
    "\n",
    "x_bar= P_head.mean() # calculating the sample mean of sample array\n",
    "s= P_head.std() # calculating the sample standard deviation of sample array"
   ]
  },
  {
   "cell_type": "code",
   "execution_count": 5,
   "id": "6d8b8924-97ec-4c39-b653-785f10ff77fb",
   "metadata": {},
   "outputs": [
    {
     "data": {
      "text/plain": [
       "(np.float64(1.097315257758733), np.float64(1.4733514089079334))"
      ]
     },
     "execution_count": 5,
     "metadata": {},
     "output_type": "execute_result"
    }
   ],
   "source": [
    "# Using T-distribution  as we don't know the population standard deviation and n <30 \n",
    "stats.t.interval(0.99,n-1,x_bar,s/np.sqrt(n))"
   ]
  },
  {
   "cell_type": "code",
   "execution_count": 9,
   "id": "9aa955ac-c11a-405c-893b-f138389d8001",
   "metadata": {},
   "outputs": [
    {
     "name": "stdout",
     "output_type": "stream",
     "text": [
      " Usint t-distribution the confidence invervar lies between  1.1 and 1.47\n"
     ]
    }
   ],
   "source": [
    "t=stats.t.interval(0.99,n-1,x_bar,s/np.sqrt(n))\n",
    "print(f\" Using t-distribution the confidence inverval lies between  {t[0].round(2)} and {t[1].round(2)}\" )"
   ]
  },
  {
   "cell_type": "code",
   "execution_count": 13,
   "id": "8280a8e1-2f2a-403c-84a8-62d85d4df338",
   "metadata": {},
   "outputs": [
    {
     "data": {
      "text/plain": [
       "(np.float64(1.1523180800624273), np.float64(1.4183485866042391))"
      ]
     },
     "execution_count": 13,
     "metadata": {},
     "output_type": "execute_result"
    }
   ],
   "source": [
    "# In the b problem the population SD is given as 0.2 million and hence we know the population SD  we can use the Z-distribution  to get the CI \n",
    "sigma = 0.2 \n",
    "\n",
    "stats.norm.interval(0.99,x_bar,sigma/np.sqrt(n))  \n"
   ]
  },
  {
   "cell_type": "code",
   "execution_count": 12,
   "id": "c7137dde-a8d8-4a13-9573-4f16b2a9d6db",
   "metadata": {},
   "outputs": [
    {
     "name": "stdout",
     "output_type": "stream",
     "text": [
      " As we know about the population S.D. hence z-distribution the confidence invervar lies between  1.15 and 1.42\n"
     ]
    }
   ],
   "source": [
    "z=stats.norm.interval(0.99,x_bar,sigma/np.sqrt(n))  \n",
    " \n",
    "print(f\" As we know about the population S.D. hence z-distribution the confidence invervar lies between  {z[0].round(2)} and {z[1].round(2)}\" )"
   ]
  },
  {
   "cell_type": "markdown",
   "id": "adbf5ca6-1392-4b30-a5d8-359d07916f01",
   "metadata": {},
   "source": [
    "##Conclusion#\n",
    "> Using T- distribution for the given data set the average durability of all the print head ( for 99% confident invterval ) lies between  1.1 and 1.47 (in million of Characters ) \n",
    "> \n",
    "> For the second problem we know the population standard deviation, hence using z-distribution the average durability of all the print head ( for 99% confident invterval ) lies between  1.15 and 1.42 (in million of Characters )\n",
    "\n",
    "\n"
   ]
  },
  {
   "cell_type": "code",
   "execution_count": null,
   "id": "4685026c-982f-475e-b3b6-dea8af099bb4",
   "metadata": {},
   "outputs": [],
   "source": []
  }
 ],
 "metadata": {
  "kernelspec": {
   "display_name": "Python 3 (ipykernel)",
   "language": "python",
   "name": "python3"
  },
  "language_info": {
   "codemirror_mode": {
    "name": "ipython",
    "version": 3
   },
   "file_extension": ".py",
   "mimetype": "text/x-python",
   "name": "python",
   "nbconvert_exporter": "python",
   "pygments_lexer": "ipython3",
   "version": "3.13.5"
  },
  "widgets": {
   "application/vnd.jupyter.widget-state+json": {
    "state": {},
    "version_major": 2,
    "version_minor": 0
   }
  }
 },
 "nbformat": 4,
 "nbformat_minor": 5
}
