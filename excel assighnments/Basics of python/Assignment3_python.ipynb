{
 "cells": [
  {
   "cell_type": "code",
   "execution_count": 25,
   "id": "99677946-ae1f-4b6b-a5b0-032bb61464dd",
   "metadata": {},
   "outputs": [
    {
     "name": "stdin",
     "output_type": "stream",
     "text": [
      "Entre the the number that you want to check if its prime or not 15\n"
     ]
    },
    {
     "name": "stdout",
     "output_type": "stream",
     "text": [
      "15 is not prime\n"
     ]
    }
   ],
   "source": [
    "#  Excersise 1 \n",
    "\n",
    "# prime find the prime number\n",
    "\n",
    "n= int(input(\"Entre the the number that you want to check if its prime or not\"))\n",
    "\n",
    "\n",
    "if n <= 1: \n",
    "    print(\"Not prime\")\n",
    "else:\n",
    "    for i in range(2, n):\n",
    "        if n % i == 0:\n",
    "            print(f\"{n} is not prime\")\n",
    "            break\n",
    "    else:   \n",
    "        print(f\"{n} is prime\")\n"
   ]
  },
  {
   "cell_type": "code",
   "execution_count": 32,
   "id": "6d3e9a15-7f38-413e-b61b-2e0b4530c3ee",
   "metadata": {},
   "outputs": [
    {
     "name": "stdin",
     "output_type": "stream",
     "text": [
      "Please entre the product for number 2 and 17:  5\n"
     ]
    },
    {
     "name": "stdout",
     "output_type": "stream",
     "text": [
      "please try again \n"
     ]
    },
    {
     "name": "stdin",
     "output_type": "stream",
     "text": [
      "Please entre the product for number 2 and 17:  7\n"
     ]
    },
    {
     "name": "stdout",
     "output_type": "stream",
     "text": [
      "please try again \n"
     ]
    },
    {
     "name": "stdin",
     "output_type": "stream",
     "text": [
      "Please entre the product for number 2 and 17:  34\n"
     ]
    },
    {
     "name": "stdout",
     "output_type": "stream",
     "text": [
      " You are correct! The product for number 2 and 17  is 34 \n"
     ]
    }
   ],
   "source": [
    "# Excercise 2\n",
    "\n",
    "# To get two random numbers and checking if user entre the correct product of the numbers or not\n",
    "\n",
    "import random as rand \n",
    "\n",
    "a=rand.randint(1,21) # select random number from 1 to 20\n",
    "b=rand.randint(1,21)\n",
    "\n",
    "while True:\n",
    "    prod= int(input(f\"Please entre the product for number {a} and {b}: \"))\n",
    "    \n",
    "    if prod == a*b :\n",
    "        print(f\" You are correct! The product for number {a} and {b}  is {a*b} \")\n",
    "        break\n",
    "    else :\n",
    "        print (\"please try again \")\n",
    "    "
   ]
  },
  {
   "cell_type": "code",
   "execution_count": 35,
   "id": "84ad731a-1c5d-4fc9-9c6e-3cfd93d22db1",
   "metadata": {},
   "outputs": [
    {
     "name": "stdout",
     "output_type": "stream",
     "text": [
      "100^2 =  10000\n",
      "102^2 =  10404\n",
      "104^2 =  10816\n",
      "106^2 =  11236\n",
      "108^2 =  11664\n",
      "110^2 =  12100\n",
      "112^2 =  12544\n",
      "114^2 =  12996\n",
      "116^2 =  13456\n",
      "118^2 =  13924\n",
      "120^2 =  14400\n",
      "122^2 =  14884\n",
      "124^2 =  15376\n",
      "126^2 =  15876\n",
      "128^2 =  16384\n",
      "130^2 =  16900\n",
      "132^2 =  17424\n",
      "134^2 =  17956\n",
      "136^2 =  18496\n",
      "138^2 =  19044\n",
      "140^2 =  19600\n",
      "142^2 =  20164\n",
      "144^2 =  20736\n",
      "146^2 =  21316\n",
      "148^2 =  21904\n",
      "150^2 =  22500\n",
      "152^2 =  23104\n",
      "154^2 =  23716\n",
      "156^2 =  24336\n",
      "158^2 =  24964\n",
      "160^2 =  25600\n",
      "162^2 =  26244\n",
      "164^2 =  26896\n",
      "166^2 =  27556\n",
      "168^2 =  28224\n",
      "170^2 =  28900\n",
      "172^2 =  29584\n",
      "174^2 =  30276\n",
      "176^2 =  30976\n",
      "178^2 =  31684\n",
      "180^2 =  32400\n",
      "182^2 =  33124\n",
      "184^2 =  33856\n",
      "186^2 =  34596\n",
      "188^2 =  35344\n",
      "190^2 =  36100\n",
      "192^2 =  36864\n",
      "194^2 =  37636\n",
      "196^2 =  38416\n",
      "198^2 =  39204\n",
      "200^2 =  40000\n"
     ]
    }
   ],
   "source": [
    "# Excersise 3\n",
    "# selecting Sqaure of even numbers from 100 to 200 \n",
    "for i in range (100,201):\n",
    "    if i%2==0:           # Selecting even numbers only \n",
    "        print(f\"{i}^2 =  {i**2}\")"
   ]
  },
  {
   "cell_type": "code",
   "execution_count": 95,
   "id": "581d29a9-f840-409c-a974-f41c931a6320",
   "metadata": {},
   "outputs": [
    {
     "name": "stdout",
     "output_type": "stream",
     "text": [
      "{'This': 2, 'is': 1, 'a': 1, 'sample': 1, 'text.': 1, 'text': 1, 'will': 1, 'be': 1, 'used': 1, 'to': 1, 'demonstrate': 1, 'the': 1, 'word': 1, 'counter.': 1}\n"
     ]
    }
   ],
   "source": [
    "# Excersie 4\n",
    "# count the numbers of words \n",
    "\n",
    "words= \"This is a sample text. This text will be used to demonstrate the word counter.\"\n",
    "\n",
    "w=words.split() # making list of the above words\n",
    "t=0 \n",
    "dic= {} # making an empty dictory \n",
    "for i in w:\n",
    "    t=0\n",
    "    for j in w:\n",
    "        if i==j:\n",
    "            t+=1\n",
    "            dic[i]=t  # using dictory as it do not repeat duplicate value \n",
    "            \n",
    "print(\" Here is the Count of every word in from the given sentance \")\n",
    "print(dic)\n",
    "    \n",
    "    \n",
    "   "
   ]
  },
  {
   "cell_type": "code",
   "execution_count": 96,
   "id": "4b2e02a3-38dd-470a-a80e-78f426e8c5f4",
   "metadata": {},
   "outputs": [
    {
     "name": "stdin",
     "output_type": "stream",
     "text": [
      "Entre the word to check the palindrom racecar\n"
     ]
    },
    {
     "name": "stdout",
     "output_type": "stream",
     "text": [
      " The reverse version  of the given word by user : racecar \n",
      "The given word is palindrom\n"
     ]
    }
   ],
   "source": [
    "# Excersie 4\n",
    "#  To check Palindrome\n",
    "\n",
    "word=input(\"Entre the word to check the palindrom\")\n",
    "\n",
    "reverse= word[-1::-1]\n",
    "print(f\" The reverse version  of the given word by user : {reverse} \")\n",
    "\n",
    "if reverse == word:\n",
    "    print (\"The given word is palindrom\")\n",
    "else :\n",
    "    print(\"Given word is not a palindrom\")"
   ]
  },
  {
   "cell_type": "code",
   "execution_count": null,
   "id": "33afce9d-1381-4157-b06b-a39e1eed5a8a",
   "metadata": {},
   "outputs": [],
   "source": []
  }
 ],
 "metadata": {
  "kernelspec": {
   "display_name": "Python 3 (ipykernel)",
   "language": "python",
   "name": "python3"
  },
  "language_info": {
   "codemirror_mode": {
    "name": "ipython",
    "version": 3
   },
   "file_extension": ".py",
   "mimetype": "text/x-python",
   "name": "python",
   "nbconvert_exporter": "python",
   "pygments_lexer": "ipython3",
   "version": "3.13.5"
  },
  "widgets": {
   "application/vnd.jupyter.widget-state+json": {
    "state": {},
    "version_major": 2,
    "version_minor": 0
   }
  }
 },
 "nbformat": 4,
 "nbformat_minor": 5
}
