{
 "cells": [
  {
   "cell_type": "markdown",
   "id": "9ccb38e2-cba8-4e5a-b121-adb09549af7d",
   "metadata": {},
   "source": [
    "# Hypothesis Testing "
   ]
  },
  {
   "cell_type": "code",
   "execution_count": 24,
   "id": "1579d89a-b0f9-4b31-9aeb-036f82eb6cd4",
   "metadata": {},
   "outputs": [],
   "source": [
    "#  H0 = The cost of the model if not higher \n",
    "# H1 = The cost of the model is higher "
   ]
  },
  {
   "cell_type": "code",
   "execution_count": 25,
   "id": "aa12722e-d884-4e25-b3aa-e800d7a1af37",
   "metadata": {},
   "outputs": [],
   "source": [
    "\n",
    "x_bar = 3050\n",
    "mu= 1000+5*600  #4000\n",
    "sigma =5*25\n",
    "n= 25\n"
   ]
  },
  {
   "cell_type": "code",
   "execution_count": 26,
   "id": "5be309f9-206a-44ca-b6ee-08ca29da4dad",
   "metadata": {},
   "outputs": [
    {
     "data": {
      "text/plain": [
       "np.float64(-38.0)"
      ]
     },
     "execution_count": 26,
     "metadata": {},
     "output_type": "execute_result"
    }
   ],
   "source": [
    "from scipy import stats\n",
    "import numpy as np \n",
    "\n",
    "Z = (x_bar-mu)/(sigma/np.sqrt(n))\n",
    "Z\n"
   ]
  },
  {
   "cell_type": "code",
   "execution_count": 27,
   "id": "cee5cae7-b438-49fd-b268-3493f2c75cc1",
   "metadata": {},
   "outputs": [
    {
     "name": "stdout",
     "output_type": "stream",
     "text": [
      "Z = -38.0\n",
      "one-tailed (right) p-value = 1.0\n",
      "z_critical (right-tailed, alpha=0.05) = 1.6448536269514722\n",
      "Decision: reject H0? False\n"
     ]
    }
   ],
   "source": [
    "p_value = 1- stats.norm.cdf(Z)\n",
    "\n",
    "print(\"Z =\", Z)\n",
    "\n",
    "print(\"one-tailed (right) p-value =\", p_value)\n",
    "\n",
    "# decision at alpha = 0.05\n",
    "alpha = 0.05\n",
    "z_crit = stats.norm.ppf(1 - alpha)  # ~1.64 \n",
    "print(\"z_critical (right-tailed, alpha=0.05) =\", z_crit)\n",
    "print(\"Decision: reject H0?\" , Z > z_crit)"
   ]
  },
  {
   "cell_type": "markdown",
   "id": "7f3afb70-0336-454f-bcd1-09338e80572c",
   "metadata": {},
   "source": [
    "# CHI-Sqaure Test #\n"
   ]
  },
  {
   "cell_type": "markdown",
   "id": "1d61693d-a4ea-45b0-8569-b77205f08e5d",
   "metadata": {},
   "source": [
    "> Null Hypothesis (H₀): There is no association between device type (Smart Thermostat vs Smart Light) and customer satisfaction level.\n",
    "\n",
    "> Alternative Hypothesis (H₁): There is an association between device type and customer satisfaction level."
   ]
  },
  {
   "cell_type": "code",
   "execution_count": 28,
   "id": "f7ed9a5e-82fc-4648-9494-bb1e9f541bca",
   "metadata": {},
   "outputs": [
    {
     "name": "stdout",
     "output_type": "stream",
     "text": [
      "       Satisfaction  Smart Thermostat  Smart Light\n",
      "0    Very Satisfied                50           70\n",
      "1         Satisfied                80          100\n",
      "2           Neutral                60           90\n",
      "3       Unsatisfied                30           50\n",
      "4  Very Unsatisfied                20           50\n"
     ]
    }
   ],
   "source": [
    "\n",
    "\n",
    "import pandas as pd\n",
    "\n",
    "# Data dictionary\n",
    "data = {\n",
    "    \"Satisfaction\": [\"Very Satisfied\", \"Satisfied\", \"Neutral\", \"Unsatisfied\", \"Very Unsatisfied\"],\n",
    "    \"Smart Thermostat\": [50, 80, 60, 30, 20],\n",
    "    \"Smart Light\": [70, 100, 90, 50, 50],\n",
    "    \n",
    "}\n",
    "\n",
    "# Create DataFrame\n",
    "df = pd.DataFrame(data)\n",
    "alpha =0.5 \n",
    "print(df)"
   ]
  },
  {
   "cell_type": "code",
   "execution_count": 29,
   "id": "7fba2079-37b9-4b57-9103-d7fc28e1b30b",
   "metadata": {},
   "outputs": [
    {
     "data": {
      "text/html": [
       "<div>\n",
       "<style scoped>\n",
       "    .dataframe tbody tr th:only-of-type {\n",
       "        vertical-align: middle;\n",
       "    }\n",
       "\n",
       "    .dataframe tbody tr th {\n",
       "        vertical-align: top;\n",
       "    }\n",
       "\n",
       "    .dataframe thead th {\n",
       "        text-align: right;\n",
       "    }\n",
       "</style>\n",
       "<table border=\"1\" class=\"dataframe\">\n",
       "  <thead>\n",
       "    <tr style=\"text-align: right;\">\n",
       "      <th>Smart Light</th>\n",
       "      <th>50</th>\n",
       "      <th>70</th>\n",
       "      <th>90</th>\n",
       "      <th>100</th>\n",
       "    </tr>\n",
       "    <tr>\n",
       "      <th>Smart Thermostat</th>\n",
       "      <th></th>\n",
       "      <th></th>\n",
       "      <th></th>\n",
       "      <th></th>\n",
       "    </tr>\n",
       "  </thead>\n",
       "  <tbody>\n",
       "    <tr>\n",
       "      <th>20</th>\n",
       "      <td>1</td>\n",
       "      <td>0</td>\n",
       "      <td>0</td>\n",
       "      <td>0</td>\n",
       "    </tr>\n",
       "    <tr>\n",
       "      <th>30</th>\n",
       "      <td>1</td>\n",
       "      <td>0</td>\n",
       "      <td>0</td>\n",
       "      <td>0</td>\n",
       "    </tr>\n",
       "    <tr>\n",
       "      <th>50</th>\n",
       "      <td>0</td>\n",
       "      <td>1</td>\n",
       "      <td>0</td>\n",
       "      <td>0</td>\n",
       "    </tr>\n",
       "    <tr>\n",
       "      <th>60</th>\n",
       "      <td>0</td>\n",
       "      <td>0</td>\n",
       "      <td>1</td>\n",
       "      <td>0</td>\n",
       "    </tr>\n",
       "    <tr>\n",
       "      <th>80</th>\n",
       "      <td>0</td>\n",
       "      <td>0</td>\n",
       "      <td>0</td>\n",
       "      <td>1</td>\n",
       "    </tr>\n",
       "  </tbody>\n",
       "</table>\n",
       "</div>"
      ],
      "text/plain": [
       "Smart Light       50   70   90   100\n",
       "Smart Thermostat                    \n",
       "20                  1    0    0    0\n",
       "30                  1    0    0    0\n",
       "50                  0    1    0    0\n",
       "60                  0    0    1    0\n",
       "80                  0    0    0    1"
      ]
     },
     "execution_count": 29,
     "metadata": {},
     "output_type": "execute_result"
    }
   ],
   "source": [
    "cross = pd.crosstab(df[\"Smart Thermostat\"],df[\"Smart Light\"])\n",
    "cross"
   ]
  },
  {
   "cell_type": "code",
   "execution_count": 30,
   "id": "faa732db-8d7b-4230-905e-83e6784bd31e",
   "metadata": {},
   "outputs": [
    {
     "name": "stdout",
     "output_type": "stream",
     "text": [
      "0.24143645097027544 12\n"
     ]
    }
   ],
   "source": [
    "from scipy.stats import chi2_contingency\n",
    "chi, p, dof, expected = chi2_contingency(cross)\n",
    "print(p, dof )"
   ]
  },
  {
   "cell_type": "code",
   "execution_count": 31,
   "id": "de6bbc1b-b4a0-49b2-9d53-cfc665c4df3e",
   "metadata": {},
   "outputs": [
    {
     "name": "stdout",
     "output_type": "stream",
     "text": [
      "Accept the H0: Both variable (Smart Thermostat vs Smart Light) are Independent\n"
     ]
    }
   ],
   "source": [
    "if p < alpha: \n",
    "    print(\"Accept the H0: Both variable (Smart Thermostat vs Smart Light) are Independent\")\n",
    "else :\n",
    "    print(\"Reject the H0: Both Valriable ( Smart Thermostat vs Smart Light) are Dependent \")\n"
   ]
  },
  {
   "cell_type": "code",
   "execution_count": null,
   "id": "b4ce4124-a20c-4218-a216-ef78cdcd11dc",
   "metadata": {},
   "outputs": [],
   "source": []
  },
  {
   "cell_type": "code",
   "execution_count": null,
   "id": "ba30b3f3-153a-481e-8d69-7401a3ec5e73",
   "metadata": {},
   "outputs": [],
   "source": []
  },
  {
   "cell_type": "code",
   "execution_count": null,
   "id": "10d1c863-c08c-46e5-870f-ed162a0270fc",
   "metadata": {},
   "outputs": [],
   "source": []
  },
  {
   "cell_type": "code",
   "execution_count": null,
   "id": "f65588c9-22fe-4e15-beda-696946d113ef",
   "metadata": {},
   "outputs": [],
   "source": []
  }
 ],
 "metadata": {
  "kernelspec": {
   "display_name": "Python 3 (ipykernel)",
   "language": "python",
   "name": "python3"
  },
  "language_info": {
   "codemirror_mode": {
    "name": "ipython",
    "version": 3
   },
   "file_extension": ".py",
   "mimetype": "text/x-python",
   "name": "python",
   "nbconvert_exporter": "python",
   "pygments_lexer": "ipython3",
   "version": "3.13.5"
  },
  "widgets": {
   "application/vnd.jupyter.widget-state+json": {
    "state": {},
    "version_major": 2,
    "version_minor": 0
   }
  }
 },
 "nbformat": 4,
 "nbformat_minor": 5
}
